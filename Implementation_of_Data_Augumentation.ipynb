{
  "nbformat": 4,
  "nbformat_minor": 0,
  "metadata": {
    "colab": {
      "provenance": [],
      "gpuType": "T4"
    },
    "kernelspec": {
      "name": "python3",
      "display_name": "Python 3"
    },
    "language_info": {
      "name": "python"
    },
    "accelerator": "GPU"
  },
  "cells": [
    {
      "cell_type": "code",
      "execution_count": null,
      "metadata": {
        "id": "0kYz-PffOjbp"
      },
      "outputs": [],
      "source": [
        "import tensorflow as tf\n",
        "import matplotlib.pyplot as plt\n",
        "from tensorflow.keras import datasets, layers, models, losses\n",
        "from tensorflow.keras.optimizers import Adam\n",
        "from tensorflow.keras.preprocessing import image\n",
        "from tensorflow.keras.preprocessing.image import ImageDataGenerator\n",
        "import numpy as np"
      ]
    },
    {
      "cell_type": "code",
      "source": [
        "#load dataset\n",
        "\n",
        "mnist = tf.keras.datasets.mnist\n",
        "cifar10 = tf.keras.datasets.cifar10\n",
        "\n",
        "(x_train_mnist, y_train_mnist), (x_test_mnist, y_test_mnist) = mnist.load_data()\n",
        "(x_train_cifar10, y_train_cifar10), (x_test_cifar10, y_test_cifar10) = cifar10.load_data()\n"
      ],
      "metadata": {
        "id": "i2XOtbAPQuNf"
      },
      "execution_count": null,
      "outputs": []
    },
    {
      "cell_type": "code",
      "source": [
        "# normalize pixel values to be between 0 and 1\n",
        "x_train_mnist, x_test_mnist = x_train_mnist / 255, x_test_mnist / 255\n",
        "x_train_cifar10, x_test_cifar10 = x_train_cifar10 / 255, x_test_cifar10 / 255"
      ],
      "metadata": {
        "id": "m00cRvOwRty9"
      },
      "execution_count": null,
      "outputs": []
    },
    {
      "cell_type": "code",
      "source": [
        "mnist_input_shape = (28, 28, 1)\n",
        "cifar_input_shape = (32, 32, 3)"
      ],
      "metadata": {
        "id": "bfuqO66cRuvH"
      },
      "execution_count": null,
      "outputs": []
    },
    {
      "cell_type": "code",
      "source": [
        "# function to create and compile CNN model with BN\n",
        "def create_cnn(input_shape):\n",
        "    model = models.Sequential()\n",
        "    model.add(layers.Conv2D(32, (3, 3), activation='relu', input_shape= input_shape))\n",
        "    model.add(layers.BatchNormalization())\n",
        "    model.add(layers.MaxPooling2D((2, 2)))\n",
        "\n",
        "    model.add(layers.Conv2D(64, (3, 3), activation='relu'))\n",
        "    model.add(layers.BatchNormalization())\n",
        "    model.add(layers.MaxPooling2D((2, 2)))\n",
        "\n",
        "    model.add(layers.Conv2D(64, (3, 3), activation='relu'))\n",
        "    model.add(layers.BatchNormalization())\n",
        "\n",
        "    model.add(layers.Flatten())\n",
        "    model.add(layers.Dense(64, activation='relu'))\n",
        "    model.add(layers.BatchNormalization())\n",
        "    model.add(layers.Dense(10, activation='softmax'))\n",
        "\n",
        "    model.compile(optimizer=Adam(learning_rate=0.001),\n",
        "                  loss='sparse_categorical_crossentropy',\n",
        "                  metrics=['accuracy'])\n",
        "\n",
        "    return model"
      ],
      "metadata": {
        "id": "oW0f7sz6Ru3Q"
      },
      "execution_count": null,
      "outputs": []
    },
    {
      "cell_type": "markdown",
      "source": [
        "###CIFAR-10 with Horizontal and Vertical Flip Augmentation"
      ],
      "metadata": {
        "id": "I14DEBPESyQc"
      }
    },
    {
      "cell_type": "code",
      "source": [
        "model_cifar10 = create_cnn(cifar_input_shape)"
      ],
      "metadata": {
        "id": "eLHlprwvSyil"
      },
      "execution_count": null,
      "outputs": []
    },
    {
      "cell_type": "code",
      "source": [
        "# Train the model for cifar10\n",
        "model_cifar10.fit(x_train_cifar10, y_train_cifar10, epochs=42, validation_data=(x_test_cifar10, y_test_cifar10))\n"
      ],
      "metadata": {
        "colab": {
          "base_uri": "https://localhost:8080/"
        },
        "id": "bmGGkYuARu59",
        "outputId": "e288cdf2-b20a-4bba-cd7b-30b0a9e49180"
      },
      "execution_count": null,
      "outputs": [
        {
          "output_type": "stream",
          "name": "stdout",
          "text": [
            "Epoch 1/42\n",
            "1563/1563 [==============================] - 21s 10ms/step - loss: 1.3019 - accuracy: 0.5381 - val_loss: 1.3035 - val_accuracy: 0.5600\n",
            "Epoch 2/42\n",
            "1563/1563 [==============================] - 12s 7ms/step - loss: 0.9414 - accuracy: 0.6706 - val_loss: 0.9278 - val_accuracy: 0.6713\n",
            "Epoch 3/42\n",
            "1563/1563 [==============================] - 11s 7ms/step - loss: 0.8061 - accuracy: 0.7193 - val_loss: 0.8613 - val_accuracy: 0.6984\n",
            "Epoch 4/42\n",
            "1563/1563 [==============================] - 11s 7ms/step - loss: 0.7096 - accuracy: 0.7551 - val_loss: 0.9368 - val_accuracy: 0.6785\n",
            "Epoch 5/42\n",
            "1563/1563 [==============================] - 11s 7ms/step - loss: 0.6351 - accuracy: 0.7799 - val_loss: 0.8372 - val_accuracy: 0.7147\n",
            "Epoch 6/42\n",
            "1563/1563 [==============================] - 12s 7ms/step - loss: 0.5711 - accuracy: 0.8019 - val_loss: 1.0024 - val_accuracy: 0.6735\n",
            "Epoch 7/42\n",
            "1563/1563 [==============================] - 11s 7ms/step - loss: 0.5191 - accuracy: 0.8184 - val_loss: 0.8520 - val_accuracy: 0.7197\n",
            "Epoch 8/42\n",
            "1563/1563 [==============================] - 11s 7ms/step - loss: 0.4725 - accuracy: 0.8340 - val_loss: 0.7973 - val_accuracy: 0.7399\n",
            "Epoch 9/42\n",
            "1563/1563 [==============================] - 10s 6ms/step - loss: 0.4320 - accuracy: 0.8478 - val_loss: 1.0845 - val_accuracy: 0.6803\n",
            "Epoch 10/42\n",
            "1563/1563 [==============================] - 12s 8ms/step - loss: 0.3913 - accuracy: 0.8635 - val_loss: 0.9465 - val_accuracy: 0.7183\n",
            "Epoch 11/42\n",
            "1563/1563 [==============================] - 12s 7ms/step - loss: 0.3624 - accuracy: 0.8720 - val_loss: 0.9739 - val_accuracy: 0.7149\n",
            "Epoch 12/42\n",
            "1563/1563 [==============================] - 11s 7ms/step - loss: 0.3323 - accuracy: 0.8827 - val_loss: 1.1115 - val_accuracy: 0.6913\n",
            "Epoch 13/42\n",
            "1563/1563 [==============================] - 12s 7ms/step - loss: 0.3094 - accuracy: 0.8902 - val_loss: 1.1923 - val_accuracy: 0.6830\n",
            "Epoch 14/42\n",
            "1563/1563 [==============================] - 10s 7ms/step - loss: 0.2807 - accuracy: 0.9018 - val_loss: 1.0075 - val_accuracy: 0.7269\n",
            "Epoch 15/42\n",
            "1563/1563 [==============================] - 11s 7ms/step - loss: 0.2670 - accuracy: 0.9046 - val_loss: 0.9839 - val_accuracy: 0.7360\n",
            "Epoch 16/42\n",
            "1563/1563 [==============================] - 12s 7ms/step - loss: 0.2472 - accuracy: 0.9123 - val_loss: 1.2296 - val_accuracy: 0.6951\n",
            "Epoch 17/42\n",
            "1563/1563 [==============================] - 11s 7ms/step - loss: 0.2329 - accuracy: 0.9167 - val_loss: 1.2052 - val_accuracy: 0.6968\n",
            "Epoch 18/42\n",
            "1563/1563 [==============================] - 11s 7ms/step - loss: 0.2186 - accuracy: 0.9211 - val_loss: 1.1396 - val_accuracy: 0.7149\n",
            "Epoch 19/42\n",
            "1563/1563 [==============================] - 11s 7ms/step - loss: 0.2060 - accuracy: 0.9269 - val_loss: 1.1179 - val_accuracy: 0.7279\n",
            "Epoch 20/42\n",
            "1563/1563 [==============================] - 11s 7ms/step - loss: 0.2029 - accuracy: 0.9282 - val_loss: 1.2203 - val_accuracy: 0.7141\n",
            "Epoch 21/42\n",
            "1563/1563 [==============================] - 11s 7ms/step - loss: 0.1842 - accuracy: 0.9350 - val_loss: 1.1590 - val_accuracy: 0.7267\n",
            "Epoch 22/42\n",
            "1563/1563 [==============================] - 11s 7ms/step - loss: 0.1793 - accuracy: 0.9359 - val_loss: 1.2027 - val_accuracy: 0.7218\n",
            "Epoch 23/42\n",
            "1563/1563 [==============================] - 11s 7ms/step - loss: 0.1696 - accuracy: 0.9398 - val_loss: 1.1969 - val_accuracy: 0.7295\n",
            "Epoch 24/42\n",
            "1563/1563 [==============================] - 11s 7ms/step - loss: 0.1609 - accuracy: 0.9425 - val_loss: 1.3282 - val_accuracy: 0.7114\n",
            "Epoch 25/42\n",
            "1563/1563 [==============================] - 11s 7ms/step - loss: 0.1621 - accuracy: 0.9429 - val_loss: 1.3361 - val_accuracy: 0.7059\n",
            "Epoch 26/42\n",
            "1563/1563 [==============================] - 11s 7ms/step - loss: 0.1521 - accuracy: 0.9457 - val_loss: 1.2466 - val_accuracy: 0.7215\n",
            "Epoch 27/42\n",
            "1563/1563 [==============================] - 12s 7ms/step - loss: 0.1459 - accuracy: 0.9477 - val_loss: 1.4819 - val_accuracy: 0.6935\n",
            "Epoch 28/42\n",
            "1563/1563 [==============================] - 11s 7ms/step - loss: 0.1455 - accuracy: 0.9485 - val_loss: 1.2808 - val_accuracy: 0.7230\n",
            "Epoch 29/42\n",
            "1563/1563 [==============================] - 11s 7ms/step - loss: 0.1392 - accuracy: 0.9505 - val_loss: 1.3382 - val_accuracy: 0.7187\n",
            "Epoch 30/42\n",
            "1563/1563 [==============================] - 11s 7ms/step - loss: 0.1336 - accuracy: 0.9529 - val_loss: 1.4810 - val_accuracy: 0.7006\n",
            "Epoch 31/42\n",
            "1563/1563 [==============================] - 11s 7ms/step - loss: 0.1309 - accuracy: 0.9533 - val_loss: 1.3980 - val_accuracy: 0.7124\n",
            "Epoch 32/42\n",
            "1563/1563 [==============================] - 11s 7ms/step - loss: 0.1252 - accuracy: 0.9564 - val_loss: 1.3817 - val_accuracy: 0.7185\n",
            "Epoch 33/42\n",
            "1563/1563 [==============================] - 12s 7ms/step - loss: 0.1261 - accuracy: 0.9546 - val_loss: 1.4105 - val_accuracy: 0.7178\n",
            "Epoch 34/42\n",
            "1563/1563 [==============================] - 15s 9ms/step - loss: 0.1167 - accuracy: 0.9591 - val_loss: 1.4222 - val_accuracy: 0.7174\n",
            "Epoch 35/42\n",
            "1563/1563 [==============================] - 11s 7ms/step - loss: 0.1161 - accuracy: 0.9582 - val_loss: 1.4614 - val_accuracy: 0.7162\n",
            "Epoch 36/42\n",
            "1563/1563 [==============================] - 11s 7ms/step - loss: 0.1147 - accuracy: 0.9587 - val_loss: 1.4035 - val_accuracy: 0.7205\n",
            "Epoch 37/42\n",
            "1563/1563 [==============================] - 11s 7ms/step - loss: 0.1147 - accuracy: 0.9601 - val_loss: 1.4581 - val_accuracy: 0.7206\n",
            "Epoch 38/42\n",
            "1563/1563 [==============================] - 11s 7ms/step - loss: 0.1085 - accuracy: 0.9612 - val_loss: 1.5264 - val_accuracy: 0.7078\n",
            "Epoch 39/42\n",
            "1563/1563 [==============================] - 11s 7ms/step - loss: 0.1076 - accuracy: 0.9622 - val_loss: 1.4746 - val_accuracy: 0.7158\n",
            "Epoch 40/42\n",
            "1563/1563 [==============================] - 11s 7ms/step - loss: 0.1114 - accuracy: 0.9607 - val_loss: 1.6010 - val_accuracy: 0.6981\n",
            "Epoch 41/42\n",
            "1563/1563 [==============================] - 11s 7ms/step - loss: 0.0948 - accuracy: 0.9667 - val_loss: 1.5071 - val_accuracy: 0.7111\n",
            "Epoch 42/42\n",
            "1563/1563 [==============================] - 11s 7ms/step - loss: 0.1027 - accuracy: 0.9644 - val_loss: 1.4981 - val_accuracy: 0.7195\n"
          ]
        },
        {
          "output_type": "execute_result",
          "data": {
            "text/plain": [
              "<keras.src.callbacks.History at 0x7cdbf62b1f90>"
            ]
          },
          "metadata": {},
          "execution_count": 56
        }
      ]
    },
    {
      "cell_type": "code",
      "source": [
        "# Load and preprocess the \"dog\" image\n",
        "img_path = '/content/dog.png'\n",
        "img = image.load_img(img_path, target_size=(32, 32))\n",
        "img_array = image.img_to_array(img)\n",
        "img_array = np.expand_dims(img_array, axis=0)\n",
        "img_array /= 255.0"
      ],
      "metadata": {
        "id": "Lc-1ZYdISjSY"
      },
      "execution_count": null,
      "outputs": []
    },
    {
      "cell_type": "code",
      "source": [
        "# Predict the class probabilities for the original image\n",
        "original_prediction = model_cifar10.predict(img_array)"
      ],
      "metadata": {
        "colab": {
          "base_uri": "https://localhost:8080/"
        },
        "id": "UGcMMZ1KXQNH",
        "outputId": "20341b66-6a53-4f6d-fb1f-0f7280cbbe4e"
      },
      "execution_count": null,
      "outputs": [
        {
          "output_type": "stream",
          "name": "stdout",
          "text": [
            "1/1 [==============================] - 0s 170ms/step\n"
          ]
        }
      ]
    },
    {
      "cell_type": "code",
      "source": [
        "# Data augmentation: horizontal and vertical flips\n",
        "datagen = ImageDataGenerator(horizontal_flip=True, vertical_flip=True)\n",
        "augmented_images = datagen.flow(img_array)"
      ],
      "metadata": {
        "id": "PGM-Tw8LSjab"
      },
      "execution_count": null,
      "outputs": []
    },
    {
      "cell_type": "code",
      "source": [
        "# Predict the class probabilities for the augmented image\n",
        "flipped_prediction = model_cifar10.predict(augmented_images.next())"
      ],
      "metadata": {
        "colab": {
          "base_uri": "https://localhost:8080/"
        },
        "id": "DFjcIWhLWywZ",
        "outputId": "7816a1ae-f905-464e-b4ed-f0862451b7da"
      },
      "execution_count": null,
      "outputs": [
        {
          "output_type": "stream",
          "name": "stdout",
          "text": [
            "1/1 [==============================] - 0s 26ms/step\n"
          ]
        }
      ]
    },
    {
      "cell_type": "code",
      "source": [
        "# Display the original and augmented images\n",
        "original_image = img_array[0]\n",
        "flipped_image = augmented_images.next()[0]\n",
        "\n",
        "plt.figure(figsize=(10, 4))\n",
        "plt.subplot(1, 3, 1)\n",
        "plt.imshow(original_image)\n",
        "plt.title(f'Original Image\\nPrediction: {np.argmax(original_prediction)}')\n",
        "\n",
        "\n",
        "plt.subplot(1, 3, 2)\n",
        "plt.imshow(flipped_image)\n",
        "plt.title(f'Augmented Image (Horizontal Flip)\\nPrediction: {np.argmax(flipped_prediction)}')\n",
        "\n",
        "\n",
        "plt.subplot(1, 3, 3)\n",
        "plt.imshow(np.flipud(flipped_image))\n",
        "plt.title(f'Augmented Image (Vertical Flip)\\nPrediction: {np.argmax(flipped_prediction)}')\n",
        "\n",
        "plt.show()"
      ],
      "metadata": {
        "colab": {
          "base_uri": "https://localhost:8080/",
          "height": 331
        },
        "id": "AFIm2aRISje6",
        "outputId": "39d26e92-1a73-4db2-910b-fe62fa6e8673"
      },
      "execution_count": null,
      "outputs": [
        {
          "output_type": "display_data",
          "data": {
            "text/plain": [
              "<Figure size 1000x400 with 3 Axes>"
            ],
            "image/png": "[encoded data removed]"
          },
          "metadata": {}
        }
      ]
    },
    {
      "cell_type": "markdown",
      "source": [
        "###MNIST with Rotation Augmentation"
      ],
      "metadata": {
        "id": "JRH4yD0oX0rX"
      }
    },
    {
      "cell_type": "code",
      "source": [
        "model_mnist = create_cnn(mnist_input_shape)"
      ],
      "metadata": {
        "id": "QHQ_c3EMXupi"
      },
      "execution_count": null,
      "outputs": []
    },
    {
      "cell_type": "code",
      "source": [
        "# Train the model for mnist\n",
        "model_mnist.fit(np.expand_dims(x_train_mnist, axis=-1), y_train_mnist, epochs=5, validation_data=(np.expand_dims(x_test_mnist, axis=-1), y_test_mnist))"
      ],
      "metadata": {
        "colab": {
          "base_uri": "https://localhost:8080/"
        },
        "id": "mUZH0kW5Ru8m",
        "outputId": "e21a281c-4297-43a0-f448-23e0f2e6c507"
      },
      "execution_count": null,
      "outputs": [
        {
          "output_type": "stream",
          "name": "stdout",
          "text": [
            "Epoch 1/5\n",
            "1875/1875 [==============================] - 46s 7ms/step - loss: 0.1050 - accuracy: 0.9695 - val_loss: 0.0614 - val_accuracy: 0.9813\n",
            "Epoch 2/5\n",
            "1875/1875 [==============================] - 12s 6ms/step - loss: 0.0450 - accuracy: 0.9865 - val_loss: 0.0473 - val_accuracy: 0.9848\n",
            "Epoch 3/5\n",
            "1875/1875 [==============================] - 12s 7ms/step - loss: 0.0332 - accuracy: 0.9901 - val_loss: 0.0369 - val_accuracy: 0.9897\n",
            "Epoch 4/5\n",
            "1875/1875 [==============================] - 12s 7ms/step - loss: 0.0259 - accuracy: 0.9920 - val_loss: 0.0262 - val_accuracy: 0.9923\n",
            "Epoch 5/5\n",
            "1875/1875 [==============================] - 11s 6ms/step - loss: 0.0219 - accuracy: 0.9929 - val_loss: 0.0309 - val_accuracy: 0.9904\n"
          ]
        },
        {
          "output_type": "execute_result",
          "data": {
            "text/plain": [
              "<keras.src.callbacks.History at 0x7cdbf123ead0>"
            ]
          },
          "metadata": {},
          "execution_count": 63
        }
      ]
    },
    {
      "cell_type": "code",
      "source": [
        "# Load and preprocess the \"handwritten6.jpg\" image\n",
        "img_path = '/content/handwritten6.png'\n",
        "img = image.load_img(img_path, target_size=(28, 28), color_mode='grayscale')\n",
        "img_array = image.img_to_array(img)\n",
        "img_array = np.expand_dims(img_array, axis=0)\n",
        "img_array /= 255.0"
      ],
      "metadata": {
        "id": "1D1S2xlSRu_C"
      },
      "execution_count": null,
      "outputs": []
    },
    {
      "cell_type": "code",
      "source": [
        "# Predict the class probabilities for the original image\n",
        "original_prediction = model_mnist.predict(img_array)"
      ],
      "metadata": {
        "colab": {
          "base_uri": "https://localhost:8080/"
        },
        "id": "3_U1qd7jPqdO",
        "outputId": "e786ea60-d35b-4208-b5f1-96e86b62c8b2"
      },
      "execution_count": null,
      "outputs": [
        {
          "output_type": "stream",
          "name": "stdout",
          "text": [
            "1/1 [==============================] - 0s 109ms/step\n"
          ]
        }
      ]
    },
    {
      "cell_type": "code",
      "source": [
        "# Data augmentation: rotation\n",
        "datagen = ImageDataGenerator(rotation_range=60)\n",
        "augmented_images = datagen.flow(img_array)"
      ],
      "metadata": {
        "id": "7vmSEllIPqoL"
      },
      "execution_count": null,
      "outputs": []
    },
    {
      "cell_type": "code",
      "source": [
        "# Predict the class probabilities for the augmented image\n",
        "rotated_prediction = model_mnist.predict(augmented_images.next())"
      ],
      "metadata": {
        "colab": {
          "base_uri": "https://localhost:8080/"
        },
        "id": "5AId-5dcQrQj",
        "outputId": "4c197c63-a142-4c6c-9a17-93ea198f35c0"
      },
      "execution_count": null,
      "outputs": [
        {
          "output_type": "stream",
          "name": "stdout",
          "text": [
            "1/1 [==============================] - 0s 18ms/step\n"
          ]
        }
      ]
    },
    {
      "cell_type": "code",
      "source": [
        "# Display the original and augmented images\n",
        "original_image = img_array[0, :, :, 0]\n",
        "rotated_image = augmented_images.next()[0, :, :, 0]\n",
        "\n",
        "plt.figure(figsize=(8, 4))\n",
        "plt.subplot(1, 2, 1)\n",
        "plt.imshow(original_image, cmap='gray')\n",
        "plt.title('Original Image')\n",
        "\n",
        "plt.subplot(1, 2, 2)\n",
        "plt.imshow(rotated_image, cmap='gray')\n",
        "plt.title('Augmented Image (Rotation)')\n",
        "\n",
        "\n",
        "plt.show()"
      ],
      "metadata": {
        "colab": {
          "base_uri": "https://localhost:8080/",
          "height": 364
        },
        "id": "5WWPdkS6Pihn",
        "outputId": "cdea8f39-a4dc-425c-8fca-056b482ea013"
      },
      "execution_count": null,
      "outputs": [
        {
          "output_type": "display_data",
          "data": {
            "text/plain": [
              "<Figure size 800x400 with 2 Axes>"
            ],
            "image/png": "[encoded data removed]"
          },
          "metadata": {}
        }
      ]
    }
  ]
}